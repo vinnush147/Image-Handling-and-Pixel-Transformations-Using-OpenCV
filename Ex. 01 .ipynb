{
 "cells": [
  {
   "cell_type": "code",
   "execution_count": null,
   "id": "10710b67-308b-4fcd-9637-f7e6bbce16e7",
   "metadata": {},
   "outputs": [],
   "source": [
    "# Import libraries\n",
    "import cv2\n",
    "import numpy as np\n",
    "import matplotlib.pyplot as plt\n"
   ]
  },
  {
   "cell_type": "markdown",
   "id": "138fe1bf-f119-4d85-a3e2-23fae9c8d6e2",
   "metadata": {},
   "source": [
    "1. Read the image ('Eagle_in_Flight.jpg') using OpenCV imread() as a grayscale image."
   ]
  },
  {
   "cell_type": "code",
   "execution_count": null,
   "id": "5d984dd9-2769-4f09-b402-93ae10578b80",
   "metadata": {},
   "outputs": [],
   "source": [
    "import cv2\n",
    "import numpy as np\n",
    "import matplotlib.pyplot as plt\n",
    "img =cv2.imread('Eagle_in_Flight.jpg',cv2.IMREAD_COLOR)\n",
    "img_rgb = cv2.cvtColor(img, cv2.COLOR_BGR2RGB)"
   ]
  },
  {
   "cell_type": "markdown",
   "id": "6808820f-63ba-4345-83ea-d365729c9844",
   "metadata": {},
   "source": [
    "2. Print the image width, height & Channel"
   ]
  },
  {
   "cell_type": "code",
   "execution_count": null,
   "id": "2f715dc7-ab8a-415d-a33e-e569c81125e3",
   "metadata": {},
   "outputs": [],
   "source": [
    "img.shape"
   ]
  },
  {
   "cell_type": "markdown",
   "id": "e73479fb-967d-4516-a267-beb471ee27dc",
   "metadata": {},
   "source": [
    "3. Display the image using matplotlib imshow()."
   ]
  },
  {
   "cell_type": "code",
   "execution_count": null,
   "id": "56c55d60-47ac-4936-884f-479d683fb7dd",
   "metadata": {},
   "outputs": [],
   "source": [
    "img_gray = cv2.cvtColor(img_rgb, cv2.COLOR_RGB2GRAY)\n",
    "plt.imshow(img_gray,cmap='grey')\n",
    "plt.show()"
   ]
  },
  {
   "cell_type": "markdown",
   "id": "db5976b7-6ca8-43c5-ba95-3fed381399e4",
   "metadata": {},
   "source": [
    "4. Save the image as a PNG file using OpenCV imwrite()."
   ]
  },
  {
   "cell_type": "code",
   "execution_count": null,
   "id": "4fbf6544-7143-43f0-bd95-5a958324ed4c",
   "metadata": {},
   "outputs": [],
   "source": [
    "img=cv2.imread('Eagle_in_Flight.jpg')\n",
    "cv2.imwrite('Eagle.png',img)"
   ]
  },
  {
   "cell_type": "markdown",
   "id": "3bd89354-b0cc-4c98-9b56-84fbef24ca7e",
   "metadata": {},
   "source": [
    "5. Read the saved image above as a color image using cv2.cvtColor()."
   ]
  },
  {
   "cell_type": "code",
   "execution_count": null,
   "id": "5a779c87-b626-49fe-aab6-4afeff9ac333",
   "metadata": {},
   "outputs": [],
   "source": [
    "img=cv2.imread('Eagle_in_Flight.jpg')\n",
    "cv2.imwrite('Eagle.png',img)"
   ]
  },
  {
   "cell_type": "markdown",
   "id": "dbe0a6c0-eb9f-41b1-aa2c-224ff49cf68e",
   "metadata": {},
   "source": [
    "6. Display the Colour image using matplotlib imshow() & Print the image width, height & channel"
   ]
  },
  {
   "cell_type": "code",
   "execution_count": null,
   "id": "6d0c0916-68d5-438a-b07d-d4959a8240bb",
   "metadata": {},
   "outputs": [],
   "source": [
    "plt.imshow(img)\n",
    "plt.show()\n",
    "img.shape"
   ]
  },
  {
   "cell_type": "markdown",
   "id": "1b12f6ab-5306-446f-b44a-0570a1143852",
   "metadata": {},
   "source": [
    "7. Crop the image to extract any specific (Eagle alone)  object from the image."
   ]
  },
  {
   "cell_type": "code",
   "execution_count": null,
   "id": "d72be2da-3adc-4615-af7f-b4e7ebc059b0",
   "metadata": {},
   "outputs": [],
   "source": [
    "crop = img_rgb[0:450,200:550] \n",
    "plt.imshow(crop[:,:,::-1])\n",
    "plt.title(\"Cropped Region\")\n",
    "plt.axis(\"off\")\n",
    "plt.show()\n",
    "crop.shape"
   ]
  },
  {
   "cell_type": "markdown",
   "id": "fcf60f6a-c790-4d22-ad69-236d7bfb8a3c",
   "metadata": {},
   "source": [
    "8. Resize the image up by a factor of 2x."
   ]
  },
  {
   "cell_type": "code",
   "execution_count": null,
   "id": "b4407dfd-a452-48d3-81b0-f9055aa703a8",
   "metadata": {},
   "outputs": [],
   "source": [
    "res= cv2.resize(crop,(200*2, 200*2))"
   ]
  },
  {
   "cell_type": "markdown",
   "id": "523cdbad-8f23-410d-9cb3-749917e04a43",
   "metadata": {},
   "source": [
    "9. Flip the cropped/resized image horizontally. (Eagle Image)"
   ]
  },
  {
   "cell_type": "code",
   "execution_count": null,
   "id": "9f9e3817-3e63-4d58-9af4-647d06d0c59f",
   "metadata": {},
   "outputs": [],
   "source": [
    "flip= cv2.flip(res,1)\n",
    "plt.imshow(flip[:,:,::-1])\n",
    "plt.title(\"Flipped Horizontally\")\n",
    "plt.axis(\"off\")"
   ]
  },
  {
   "cell_type": "markdown",
   "id": "9480b40d-f735-4f7f-9388-0495c9e2dffb",
   "metadata": {},
   "source": [
    "10. Read in the image ('Apollo-11-launch.jpg')."
   ]
  },
  {
   "cell_type": "code",
   "execution_count": null,
   "id": "281621a7-1d6a-4757-8f22-4d5a58ff4839",
   "metadata": {},
   "outputs": [],
   "source": [
    "img=cv2.imread('Apollo-11-launch.jpg',cv2.IMREAD_COLOR)\n",
    "img_rgb = cv2.cvtColor(img, cv2.COLOR_BGR2RGB)\n",
    "img_rgb.shape"
   ]
  },
  {
   "cell_type": "markdown",
   "id": "d6197ce3-b906-4428-a161-4f16a70ba385",
   "metadata": {},
   "source": [
    "11. Add the following text to the dark area at the bottom of the image (centered on the image):"
   ]
  },
  {
   "cell_type": "code",
   "execution_count": null,
   "id": "de6f8a2d-acf8-4a94-9593-3a8fbbea8a81",
   "metadata": {},
   "outputs": [],
   "source": [
    "text = cv2.putText(img_rgb, \"Apollo 11 Saturn V Launch, July 16, 1969\", (300, 700),cv2.FONT_HERSHEY_SIMPLEX, 1, (255, 255, 255), 2)  \n",
    "plt.imshow(text, cmap='gray')  \n",
    "plt.title(\"New image\")\n",
    "plt.show()  \n"
   ]
  },
  {
   "cell_type": "markdown",
   "id": "60a14a02-e282-4a89-a226-b3d7600771f0",
   "metadata": {},
   "source": [
    "12. Draw a magenta rectangle that encompasses the launch tower and the rocket."
   ]
  },
  {
   "cell_type": "code",
   "execution_count": null,
   "id": "e3e10a31-159d-49e7-a7a8-d9a6137f434d",
   "metadata": {},
   "outputs": [],
   "source": [
    "rcol= (255, 0, 255)\n",
    "cv2.rectangle(img_rgb, (400, 100), (800, 650), rcol, 3)  "
   ]
  },
  {
   "cell_type": "markdown",
   "id": "d428c57b-5f09-43fe-b79b-a28e18c9f3b0",
   "metadata": {},
   "source": [
    "13. Display the final annotated image."
   ]
  },
  {
   "cell_type": "code",
   "execution_count": null,
   "id": "9bafb204-5039-421c-8f4b-efff24879604",
   "metadata": {},
   "outputs": [],
   "source": [
    "plt.title(\"Annotated image\")\n",
    "plt.imshow(img_rgb)\n",
    "plt.show()"
   ]
  },
  {
   "cell_type": "markdown",
   "id": "bb10c757-a7e7-4d01-a15f-1fee4c07b009",
   "metadata": {},
   "source": [
    "14. Read the image ('boy.jpg')."
   ]
  },
  {
   "cell_type": "code",
   "execution_count": null,
   "id": "0595d53e-4a24-4fc7-8fdd-cf9a42036f03",
   "metadata": {},
   "outputs": [],
   "source": [
    "img =cv2.imread('boy.jpg',cv2.IMREAD_COLOR)\n",
    "img_rgb= cv2.cvtColor(img, cv2.COLOR_BGR2RGB) "
   ]
  },
  {
   "cell_type": "markdown",
   "id": "961fa664-e7aa-45dc-9925-17bca6ae6130",
   "metadata": {},
   "source": [
    "15. Adjust the brightness of the image."
   ]
  },
  {
   "cell_type": "code",
   "execution_count": null,
   "id": "1869f9c3-47dc-4810-83fe-a9054b85057c",
   "metadata": {},
   "outputs": [],
   "source": [
    "m = np.ones(img_rgb.shape, dtype=\"uint8\") * 50"
   ]
  },
  {
   "cell_type": "markdown",
   "id": "979f2bb4-742d-4e1e-8120-d358729e0ab0",
   "metadata": {},
   "source": [
    "16. Create brighter and darker images."
   ]
  },
  {
   "cell_type": "code",
   "execution_count": null,
   "id": "85c198bf-e6ea-4d46-be5d-0980bb513b95",
   "metadata": {},
   "outputs": [],
   "source": [
    "img_brighter = cv2.add(img_rgb, m)  \n",
    "img_darker = cv2.subtract(img_rgb, m)  "
   ]
  },
  {
   "cell_type": "markdown",
   "id": "3b821a89-7692-46e8-8392-7c4da86dffa1",
   "metadata": {},
   "source": [
    "17. Display the images (Original Image, Darker Image, Brighter Image)."
   ]
  },
  {
   "cell_type": "code",
   "execution_count": null,
   "id": "e7de652e-816c-411f-9bf7-699c60b7baf5",
   "metadata": {},
   "outputs": [],
   "source": [
    "plt.figure(figsize=(10,5))\n",
    "plt.subplot(1,3,1), plt.imshow(img_rgb), plt.title(\"Original Image\"), plt.axis(\"off\")\n",
    "plt.subplot(1,3,2), plt.imshow(img_brighter), plt.title(\"Brighter Image\"), plt.axis(\"off\")\n",
    "plt.subplot(1,3,3), plt.imshow(img_darker), plt.title(\"Darker Image\"), plt.axis(\"off\")\n",
    "plt.show()"
   ]
  },
  {
   "cell_type": "markdown",
   "id": "ce58ccf9-ad47-4206-ab36-468b9cd67c63",
   "metadata": {},
   "source": [
    "18. Modify the image contrast."
   ]
  },
  {
   "cell_type": "code",
   "execution_count": null,
   "id": "5c72a39d-c187-43a8-9bff-fa81101a643e",
   "metadata": {},
   "outputs": [],
   "source": [
    "matrix1 = np.ones(img_rgb.shape, dtype=\"float32\") * 1.1\n",
    "matrix2 = np.ones(img_rgb.shape, dtype=\"float32\") * 1.2\n",
    "img_higher1 = cv2.multiply(img.astype(\"float32\"), matrix1).clip(0,255).astype(\"uint8\")\n",
    "img_higher2 = cv2.multiply(img.astype(\"float32\"), matrix2).clip(0,255).astype(\"uint8\")"
   ]
  },
  {
   "cell_type": "markdown",
   "id": "6491ae82-1f7d-4df5-92b5-0d90e2f6eeaa",
   "metadata": {},
   "source": [
    "19. Display the images (Original, Lower Contrast, Higher Contrast)."
   ]
  },
  {
   "cell_type": "code",
   "execution_count": null,
   "id": "8778073d-8ee8-4565-a47f-b3ccc92e21ea",
   "metadata": {},
   "outputs": [],
   "source": [
    "plt.figure(figsize=(10,5))\n",
    "plt.subplot(1,3,1), plt.imshow(img), plt.title(\"Original Image\"), plt.axis(\"off\")\n",
    "plt.subplot(1,3,2), plt.imshow(img_higher1), plt.title(\"Higher Contrast (1.1x)\"), plt.axis(\"off\")\n",
    "plt.subplot(1,3,3), plt.imshow(img_higher2), plt.title(\"Higher Contrast (1.2x)\"), plt.axis(\"off\")\n",
    "plt.show()"
   ]
  },
  {
   "cell_type": "markdown",
   "id": "bc6ab8d6-33c7-48b4-8f75-f3284b624aae",
   "metadata": {},
   "source": [
    "20. Split the image (boy.jpg) into the B,G,R components & Display the channels."
   ]
  },
  {
   "cell_type": "code",
   "execution_count": null,
   "id": "f97fe8b0-7c3a-42d6-8858-8c89a6721496",
   "metadata": {},
   "outputs": [],
   "source": [
    "b, g, r = cv2.split(img)\n",
    "plt.figure(figsize=(10,5))\n",
    "plt.subplot(1,3,1), plt.imshow(b, cmap='gray'), plt.title(\"Blue Channel\"), plt.axis(\"off\")\n",
    "plt.subplot(1,3,2), plt.imshow(g, cmap='gray'), plt.title(\"Green Channel\"), plt.axis(\"off\")\n",
    "plt.subplot(1,3,3), plt.imshow(r, cmap='gray'), plt.title(\"Red Channel\"), plt.axis(\"off\")\n",
    "plt.show()"
   ]
  },
  {
   "cell_type": "markdown",
   "id": "e918fa46-aaa2-4c09-b767-e92b0e05f729",
   "metadata": {},
   "source": [
    "21. _merged the R, G, B , display along with orginal image "
   ]
  },
  {
   "cell_type": "code",
   "execution_count": null,
   "id": "4da1b0d1-d98f-4894-891d-ac4b7a098110",
   "metadata": {},
   "outputs": [],
   "source": [
    "merged_rgb = cv2.merge([r, g, b])\n",
    "plt.figure(figsize=(5,5))\n",
    "plt.imshow(merged_rgb)\n",
    "plt.title(\"Merged RGB Image\")\n",
    "plt.axis(\"off\")\n",
    "plt.show()"
   ]
  },
  {
   "cell_type": "markdown",
   "id": "d6fa5780-2b38-4b50-b6e1-e6e2ab905c2c",
   "metadata": {},
   "source": [
    "22. Split the image into the H, S, V components &  Display the channels."
   ]
  },
  {
   "cell_type": "code",
   "execution_count": null,
   "id": "72f93be2-551f-49c5-9e6a-70c972d14555",
   "metadata": {},
   "outputs": [],
   "source": [
    "hsv_img = cv2.cvtColor(img, cv2.COLOR_RGB2HSV)\n",
    "h, s, v = cv2.split(hsv_img)\n",
    "plt.figure(figsize=(10,5))\n",
    "plt.subplot(1,3,1), plt.imshow(h, cmap='gray'), plt.title(\"Hue Channel\"), plt.axis(\"off\")\n",
    "plt.subplot(1,3,2), plt.imshow(s, cmap='gray'), plt.title(\"Saturation Channel\"), plt.axis(\"off\")\n",
    "plt.subplot(1,3,3), plt.imshow(v, cmap='gray'), plt.title(\"Value Channel\"), plt.axis(\"off\")\n",
    "plt.show()"
   ]
  },
  {
   "cell_type": "markdown",
   "id": "89ccae32-bba7-4b21-8c00-c287696e7fe7",
   "metadata": {},
   "source": [
    "23. _merged the H, S, V, display along with orginal image "
   ]
  },
  {
   "cell_type": "code",
   "execution_count": null,
   "id": "692bfb06-1f1c-4b2c-aaa0-75163d3c736a",
   "metadata": {},
   "outputs": [],
   "source": [
    "merged_hsv = cv2.cvtColor(cv2.merge([h, s, v]), cv2.COLOR_HSV2RGB)\n",
    "combined = np.concatenate((img_rgb, merged_hsv), axis=1)\n",
    "plt.figure(figsize=(10, 5))\n",
    "plt.imshow(combined)\n",
    "plt.title(\"Original Image  &  Merged HSV Image\")\n",
    "plt.axis(\"off\")\n",
    "plt.show()"
   ]
  }
 ],
 "metadata": {
  "kernelspec": {
   "display_name": "Python 3 (ipykernel)",
   "language": "python",
   "name": "python3"
  },
  "language_info": {
   "codemirror_mode": {
    "name": "ipython",
    "version": 3
   },
   "file_extension": ".py",
   "mimetype": "text/x-python",
   "name": "python",
   "nbconvert_exporter": "python",
   "pygments_lexer": "ipython3",
   "version": "3.12.3"
  }
 },
 "nbformat": 4,
 "nbformat_minor": 5
}
